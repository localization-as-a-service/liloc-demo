{
 "cells": [
  {
   "cell_type": "code",
   "execution_count": 1,
   "metadata": {},
   "outputs": [],
   "source": [
    "import open3d\n",
    "import numpy as np\n",
    "import os\n",
    "import glob\n",
    "import tqdm\n",
    "import copy\n",
    "\n",
    "import utils.registration as registration\n",
    "import utils.functions as functions\n",
    "import utils.transform as transform\n",
    "import utils.pointcloud as pointcloud\n",
    "import utils.fread as fread\n",
    "import utils.FCGF as FCGF\n",
    "\n",
    "from utils.config import Config\n",
    "from PIL import Image"
   ]
  },
  {
   "cell_type": "code",
   "execution_count": 2,
   "metadata": {},
   "outputs": [],
   "source": [
    "from dataclasses import dataclass\n",
    "import json\n",
    "\n",
    "@dataclass\n",
    "class DepthCameraParams:\n",
    "    fx: float\n",
    "    fy: float\n",
    "    px: float\n",
    "    py: float\n",
    "    width: int\n",
    "    height: int\n",
    "    depth_scale: float\n",
    "    intrinsics: open3d.camera.PinholeCameraIntrinsic\n",
    "    \n",
    "    def __init__(self, metadata_fname: str):\n",
    "        with open(metadata_fname, \"r\") as f:\n",
    "            metadata = json.load(f)\n",
    "            self.fx = metadata[\"fx\"]\n",
    "            self.fy = metadata[\"fy\"]\n",
    "            self.px = metadata[\"px\"]\n",
    "            self.py = metadata[\"py\"]\n",
    "            self.width = metadata[\"width\"]\n",
    "            self.height = metadata[\"height\"]\n",
    "            self.depth_scale = metadata[\"depth_scale\"]\n",
    "            self.intrinsics = open3d.camera.PinholeCameraIntrinsic(self.width, self.height, self.fx, self.fy, self.px, self.py)\n",
    "    "
   ]
  },
  {
   "cell_type": "code",
   "execution_count": 3,
   "metadata": {},
   "outputs": [],
   "source": [
    "def depth_image_to_point_cloud(camera_params: DepthCameraParams, depth_image_fname: str):\n",
    "    fx, fy = camera_params.intrinsics.get_focal_length()\n",
    "    cx, cy = camera_params.intrinsics.get_principal_point()\n",
    "    \n",
    "    depth_image = Image.open(depth_image_fname).convert(\"I\")\n",
    "    \n",
    "    z = np.array(depth_image) / camera_params.depth_scale\n",
    "\n",
    "    x, y = np.meshgrid(np.arange(0, z.shape[1]), np.arange(0, z.shape[0]))\n",
    "    x = (x - cx) * z / fx\n",
    "    y = (y - cy) * z / fy\n",
    "\n",
    "    xyz = np.stack([x, y, z], axis=2)\n",
    "    xyz = xyz[z > 0]\n",
    "    xyz = np.reshape(xyz, (-1, 3))\n",
    "    \n",
    "    xpcd = open3d.geometry.PointCloud()\n",
    "    xpcd.points = open3d.utility.Vector3dVector(xyz)\n",
    "    \n",
    "    return xpcd"
   ]
  },
  {
   "cell_type": "code",
   "execution_count": 4,
   "metadata": {},
   "outputs": [],
   "source": [
    "def compute_fpfh(pcd: open3d.geometry.PointCloud, voxel_size: float):\n",
    "    radius_normal = voxel_size * 2\n",
    "    pcd.estimate_normals(open3d.geometry.KDTreeSearchParamHybrid(radius=radius_normal, max_nn=30))\n",
    "\n",
    "    radius_feature = voxel_size * 5\n",
    "    pcd_fpfh = open3d.pipelines.registration.compute_fpfh_feature(\n",
    "        pcd, open3d.geometry.KDTreeSearchParamHybrid(radius=radius_feature, max_nn=100))\n",
    "    \n",
    "    return pcd, pcd_fpfh"
   ]
  },
  {
   "cell_type": "code",
   "execution_count": 5,
   "metadata": {},
   "outputs": [],
   "source": [
    "def exec_ransac(source, target, source_feat, target_feat, n_ransac, threshold):\n",
    "    return open3d.pipelines.registration.registration_ransac_based_on_feature_matching(\n",
    "        source, target, source_feat, target_feat, True, threshold,\n",
    "        open3d.pipelines.registration.TransformationEstimationPointToPoint(False),\n",
    "        n_ransac, [\n",
    "            open3d.pipelines.registration.CorrespondenceCheckerBasedOnEdgeLength(0.9),\n",
    "            open3d.pipelines.registration.CorrespondenceCheckerBasedOnDistance(threshold)\n",
    "        ],\n",
    "        open3d.pipelines.registration.RANSACConvergenceCriteria(4000000, 0.999))\n",
    "    \n",
    "\n",
    "def exec_icp(source, target, threshold, trans_init, max_iteration=30):\n",
    "    return open3d.pipelines.registration.registration_icp(\n",
    "        source, target, threshold, trans_init,\n",
    "        open3d.pipelines.registration.TransformationEstimationPointToPoint(False),\n",
    "        open3d.pipelines.registration.ICPConvergenceCriteria(max_iteration=max_iteration)\n",
    "    )\n"
   ]
  },
  {
   "cell_type": "code",
   "execution_count": 6,
   "metadata": {},
   "outputs": [],
   "source": [
    "camera_params = DepthCameraParams(\"../liloc/data/raw_data/exp_9/metadata/device-3-aligned.json\")"
   ]
  },
  {
   "cell_type": "code",
   "execution_count": 47,
   "metadata": {},
   "outputs": [],
   "source": [
    "config = Config(\n",
    "    sequence_dir=\"../liloc/data/raw_data\",\n",
    "    feature_dir=\"../liloc/data/features\",\n",
    "    output_dir=\"temp\",\n",
    "    experiment=\"exp_9\",\n",
    "    trial=\"trial_1\",\n",
    "    subject=\"subject-1\",\n",
    "    sequence=\"02\",\n",
    "    groundtruth_dir=\"data/trajectories/groundtruth\",\n",
    "    voxel_size=0.05,\n",
    "    target_fps=20\n",
    ")"
   ]
  },
  {
   "cell_type": "code",
   "execution_count": 48,
   "metadata": {},
   "outputs": [
    {
     "name": "stdout",
     "output_type": "stream",
     "text": [
      "-- Number of frames: 356\n"
     ]
    }
   ],
   "source": [
    "sequence_ts = fread.get_timstamps_from_images(config.get_sequence_dir(), ext=\".depth.png\")\n",
    "sequence_ts = fread.sample_timestamps(sequence_ts, config.target_fps)\n",
    "\n",
    "elapsed_ts = sequence_ts - sequence_ts[0]\n",
    "startt_idx = np.argwhere(elapsed_ts >= 4000)[0][0]\n",
    "sequence_ts = sequence_ts[startt_idx:]\n",
    "\n",
    "num_frames = len(sequence_ts)\n",
    "print(f\"-- Number of frames: {num_frames}\")"
   ]
  },
  {
   "cell_type": "code",
   "execution_count": 49,
   "metadata": {},
   "outputs": [
    {
     "name": "stderr",
     "output_type": "stream",
     "text": [
      "100%|██████████| 356/356 [00:17<00:00, 20.16it/s]\n"
     ]
    }
   ],
   "source": [
    "local_pcds = []\n",
    "local_fpfh = []\n",
    "\n",
    "for t in tqdm.trange(num_frames):\n",
    "    depth_image_fname = os.path.join(config.get_sequence_dir(), f\"frame-{sequence_ts[t]}.depth.png\")\n",
    "    pcd = depth_image_to_point_cloud(camera_params, depth_image_fname)\n",
    "    pcd = open3d.voxel_down_sample(pcd, config.voxel_size)\n",
    "    pcd, fpfh = registration.compute_fpfh(pcd, config.voxel_size, False)\n",
    "    \n",
    "    local_pcds.append(pcd)\n",
    "    local_fpfh.append(fpfh)"
   ]
  },
  {
   "cell_type": "code",
   "execution_count": 50,
   "metadata": {},
   "outputs": [
    {
     "name": "stderr",
     "output_type": "stream",
     "text": [
      "100%|██████████| 355/355 [04:54<00:00,  1.21it/s]\n"
     ]
    }
   ],
   "source": [
    "local_t = [np.identity(4)]\n",
    "\n",
    "for t in tqdm.trange(num_frames - 1):\n",
    "    source, source_fpfh = copy.deepcopy(local_pcds[t + 1]), local_fpfh[t + 1]\n",
    "    target, target_fpfh = copy.deepcopy(local_pcds[t]), local_fpfh[t]\n",
    "\n",
    "    reg_result = registration.exec_ransac(source, target, source_fpfh, target_fpfh, n_ransac=4, threshold=0.05)\n",
    "    reg_result = registration.exec_icp(source, target, threshold=0.05, trans_init=reg_result.transformation, max_iteration=200)\n",
    "\n",
    "    local_t.append(reg_result.transformation)"
   ]
  },
  {
   "cell_type": "code",
   "execution_count": 51,
   "metadata": {},
   "outputs": [
    {
     "name": "stderr",
     "output_type": "stream",
     "text": [
      "100%|██████████| 355/355 [00:00<00:00, 118323.10it/s]\n"
     ]
    }
   ],
   "source": [
    "trajectory_t = [np.identity(4)]\n",
    "\n",
    "for t in tqdm.trange(1, num_frames):\n",
    "    trajectory_t.append(np.dot(trajectory_t[t - 1], local_t[t]))"
   ]
  },
  {
   "cell_type": "code",
   "execution_count": 52,
   "metadata": {},
   "outputs": [],
   "source": [
    "trajectory = []\n",
    "\n",
    "for i in range(num_frames):\n",
    "    x = copy.deepcopy(local_pcds[i])\n",
    "    x.transform(trajectory_t[i])\n",
    "    trajectory.append(x)\n",
    "    \n",
    "trajectory = pointcloud.merge_pcds(trajectory, config.voxel_size)"
   ]
  },
  {
   "cell_type": "code",
   "execution_count": 53,
   "metadata": {},
   "outputs": [],
   "source": [
    "open3d.visualization.draw_geometries([trajectory])"
   ]
  },
  {
   "cell_type": "code",
   "execution_count": 37,
   "metadata": {},
   "outputs": [],
   "source": [
    "for i in range(50, 60):\n",
    "    source = copy.deepcopy(local_pcds[i + 1])\n",
    "    target = copy.deepcopy(local_pcds[i])\n",
    "    \n",
    "    source.transform(local_t[i + 1])\n",
    "    \n",
    "    registration.view(source, target, local_t[i + 1])"
   ]
  },
  {
   "cell_type": "code",
   "execution_count": null,
   "metadata": {},
   "outputs": [],
   "source": []
  }
 ],
 "metadata": {
  "kernelspec": {
   "display_name": "Python 3",
   "language": "python",
   "name": "python3"
  },
  "language_info": {
   "codemirror_mode": {
    "name": "ipython",
    "version": 3
   },
   "file_extension": ".py",
   "mimetype": "text/x-python",
   "name": "python",
   "nbconvert_exporter": "python",
   "pygments_lexer": "ipython3",
   "version": "3.7.9"
  },
  "orig_nbformat": 4
 },
 "nbformat": 4,
 "nbformat_minor": 2
}
