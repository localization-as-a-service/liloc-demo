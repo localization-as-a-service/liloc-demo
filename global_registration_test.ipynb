{
 "cells": [
  {
   "cell_type": "code",
   "execution_count": 1,
   "metadata": {},
   "outputs": [
    {
     "name": "stdout",
     "output_type": "stream",
     "text": [
      "Jupyter environment detected. Enabling Open3D WebVisualizer.\n",
      "[Open3D INFO] WebRTC GUI backend enabled.\n",
      "[Open3D INFO] WebRTCWindowSystem: HTTP handshake server disabled.\n"
     ]
    }
   ],
   "source": [
    "import numpy as np\n",
    "import open3d\n",
    "import os\n",
    "import tqdm\n",
    "import copy\n",
    "import time\n",
    "import utils.fread as fread\n",
    "\n",
    "from concurrent.futures import ThreadPoolExecutor"
   ]
  },
  {
   "cell_type": "code",
   "execution_count": 64,
   "metadata": {},
   "outputs": [],
   "source": [
    "def compute_fpfh_features(pcd, voxel_size):\n",
    "    radius_normal = voxel_size * 2\n",
    "    radius_feature = voxel_size * 5\n",
    "    \n",
    "    pcd.estimate_normals(open3d.geometry.KDTreeSearchParamHybrid(radius=radius_normal, max_nn=30))\n",
    "    fpfh = open3d.pipelines.registration.compute_fpfh_feature(pcd, open3d.geometry.KDTreeSearchParamHybrid(radius=radius_feature, max_nn=100))\n",
    "    return pcd, fpfh"
   ]
  },
  {
   "cell_type": "code",
   "execution_count": 68,
   "metadata": {},
   "outputs": [],
   "source": [
    "def execute_icp(source, target, trans_init, threshold, max_iteration):\n",
    "    result = open3d.pipelines.registration.registration_icp(\n",
    "        source, target, threshold, trans_init,\n",
    "        open3d.pipelines.registration.TransformationEstimationPointToPlane(),\n",
    "        open3d.pipelines.registration.ICPConvergenceCriteria(max_iteration=max_iteration)\n",
    "    )\n",
    "    return result"
   ]
  },
  {
   "cell_type": "code",
   "execution_count": 69,
   "metadata": {},
   "outputs": [],
   "source": [
    "def execute_ransac(source, target, source_feats, target_feats, n_ransac, threshold):\n",
    "    result = open3d.pipelines.registration.registration_ransac_based_on_feature_matching(\n",
    "        source, target, source_feats, target_feats, True,\n",
    "        threshold,\n",
    "        open3d.pipelines.registration.TransformationEstimationPointToPoint(False),\n",
    "        n_ransac, [\n",
    "            open3d.pipelines.registration.CorrespondenceCheckerBasedOnEdgeLength(0.9),\n",
    "            open3d.pipelines.registration.CorrespondenceCheckerBasedOnDistance(threshold)\n",
    "        ], open3d.pipelines.registration.RANSACConvergenceCriteria(4000000, 0.8))\n",
    "    return result"
   ]
  },
  {
   "cell_type": "code",
   "execution_count": 107,
   "metadata": {},
   "outputs": [],
   "source": [
    "def make_pcd(points):\n",
    "    pcd = open3d.geometry.PointCloud()\n",
    "    pcd.points = open3d.utility.Vector3dVector(points)\n",
    "    return pcd\n",
    "\n",
    "\n",
    "def get_limits(pcd):\n",
    "    x_min, y_min, z_min = np.min(pcd, axis=0)\n",
    "    x_max, y_max, z_max = np.max(pcd, axis=0)\n",
    "\n",
    "    return x_min, x_max, y_min, y_max, z_min, z_max\n",
    "\n",
    "\n",
    "def get_grid(pcd, cell_size):\n",
    "    x_min, x_max, y_min, y_max, z_min, z_max = get_limits(pcd)\n",
    "    y_val = np.mean([y_min, y_max])\n",
    "\n",
    "    points = []\n",
    "    x_n = int((x_max - x_min) // cell_size)\n",
    "    z_n = int((z_max - z_min) // cell_size)\n",
    "    for i in range(z_n):\n",
    "        z0 = float(z_min + cell_size * (i + 1))\n",
    "        for j in range(x_n):\n",
    "            x0 = float(x_min + cell_size * (j + 1))\n",
    "            points.append([x0, y_val, z0])\n",
    "\n",
    "    return points\n",
    "\n",
    "\n",
    "def filter_indices(points, p, cell_size):\n",
    "    px_min = p[0] - cell_size\n",
    "    px_max = p[0] + cell_size\n",
    "    pz_min = p[2] - cell_size\n",
    "    pz_max = p[2] + cell_size\n",
    "    xf = np.logical_and(points[:, 0] > px_min, points[:, 0] < px_max)\n",
    "    zf = np.logical_and(points[:, 2] > pz_min, points[:, 2] < pz_max)\n",
    "    return np.logical_and(xf, zf)\n",
    "\n",
    "\n",
    "def make_reg_features(feats):\n",
    "    features = open3d.pipelines.registration.Feature()\n",
    "    features.data = feats.T\n",
    "    return features\n",
    "\n",
    "\n",
    "def get_features(vertices, feats, n_random, voxel_size):\n",
    "    n_keypts = len(vertices)\n",
    "    indices = np.random.randint(0, n_keypts, int(n_keypts * n_random))\n",
    "    \n",
    "    keypts = make_pcd(vertices[indices])\n",
    "    keypts.estimate_normals(open3d.geometry.KDTreeSearchParamHybrid(radius=voxel_size * 2, max_nn=30))\n",
    "    \n",
    "    features = open3d.pipelines.registration.Feature()\n",
    "    features.data = feats[indices].T\n",
    "    return keypts, features\n",
    "\n",
    "\n",
    "def get_cell_features(vertices, feats, p, cell_size, n_random, voxel_size):\n",
    "    indices = filter_indices(vertices, p, cell_size)\n",
    "    indices = np.where(indices)[0]\n",
    "    \n",
    "    if len(indices) < n_random:\n",
    "        return None, None\n",
    "    \n",
    "    indices = np.random.choice(indices, int(len(indices) * n_random), replace=False)\n",
    "\n",
    "    features = open3d.pipelines.registration.Feature()\n",
    "    features.data = feats[indices].T\n",
    "\n",
    "    keypts = make_pcd(vertices[indices])\n",
    "    keypts.estimate_normals(open3d.geometry.KDTreeSearchParamHybrid(radius=voxel_size * 2, max_nn=30))\n",
    "    return keypts, features\n",
    "\n",
    "\n",
    "def register_cell(source, target, source_feat, target_feat, n_ransac, threshold):\n",
    "    return execute_ransac(source, target, source_feat, target_feat, n_ransac=n_ransac, threshold=threshold)\n",
    "\n",
    "\n",
    "def global_registration(source, source_feat, global_pcd, global_feat, cell_size, voxel_size, n_random=0.5, refine_enabled=False):\n",
    "    source, source_feat = get_features(source, source_feat, n_random, voxel_size)\n",
    "    center_pts = get_grid(global_pcd, cell_size)\n",
    "    \n",
    "    targets = []\n",
    "    target_feats = []\n",
    "    \n",
    "    delete_indices = []\n",
    "    \n",
    "    for i in range(len(center_pts)):\n",
    "        target, target_feat = get_cell_features(global_pcd, global_feat, center_pts[i], cell_size, n_random, voxel_size)\n",
    "        \n",
    "        if not target or len(target.points) < 2000:\n",
    "            delete_indices.append(i)\n",
    "            continue\n",
    "        \n",
    "        targets.append(target)\n",
    "        target_feats.append(target_feat)\n",
    "        \n",
    "    center_pts = np.delete(center_pts, delete_indices, axis=0)\n",
    "\n",
    "    reg_result = None\n",
    "    \n",
    "    with ThreadPoolExecutor(max_workers=8) as executor:\n",
    "        results = []\n",
    "        for i in range(len(center_pts)):\n",
    "            results.append(executor.submit(register_cell, source, targets[i], source_feat, target_feats[i], 3, 0.05))\n",
    "            \n",
    "        for i in range(len(center_pts)):\n",
    "            result_ransac = results[i].result()\n",
    "            \n",
    "            if not result_ransac: continue\n",
    "            \n",
    "            if reg_result is None or (len(reg_result.correspondence_set) < len(result_ransac.correspondence_set) and reg_result.fitness < result_ransac.fitness):\n",
    "                reg_result = result_ransac\n",
    "    \n",
    "    global_pcd = make_pcd(global_pcd)\n",
    "    global_pcd.estimate_normals(open3d.geometry.KDTreeSearchParamHybrid(radius=voxel_size * 2, max_nn=30))\n",
    "    \n",
    "    \n",
    "    if refine_enabled and reg_result is not None:\n",
    "        reg_result = execute_icp(source, global_pcd, threshold=0.05, trans_init=reg_result.transformation, max_iteration=200)\n",
    "    \n",
    "    return source, global_pcd, reg_result"
   ]
  },
  {
   "cell_type": "code",
   "execution_count": 108,
   "metadata": {},
   "outputs": [],
   "source": [
    "# def read_fcgf_file(file, voxel_size):\n",
    "#     data = np.load(file)\n",
    "#     pcd = make_pcd(data.get(\"keypts\"))\n",
    "\n",
    "#     pcd.estimate_normals(open3d.geometry.KDTreeSearchParamHybrid(radius=voxel_size * 2, max_nn=30))\n",
    "    \n",
    "#     features = make_reg_features(data.get(\"features\"))\n",
    "    \n",
    "#     return pcd, features\n",
    "\n",
    "def read_fcgf_file(file):\n",
    "    data = np.load(file)\n",
    "    return data.get(\"keypts\"), data.get(\"features\")"
   ]
  },
  {
   "cell_type": "code",
   "execution_count": 87,
   "metadata": {},
   "outputs": [],
   "source": [
    "def view(source, target, T):\n",
    "    p1 = copy.deepcopy(source)\n",
    "    p2 = copy.deepcopy(target)\n",
    "    \n",
    "    p1.paint_uniform_color([1, 0.706, 0])\n",
    "    p2.paint_uniform_color([0, 0.651, 0.929])\n",
    "    \n",
    "    p1.transform(T)\n",
    "    \n",
    "    open3d.visualization.draw_geometries([p1, p2])"
   ]
  },
  {
   "cell_type": "markdown",
   "metadata": {},
   "source": [
    "Global registration with new open3d version"
   ]
  },
  {
   "cell_type": "code",
   "execution_count": 110,
   "metadata": {},
   "outputs": [
    {
     "name": "stderr",
     "output_type": "stream",
     "text": [
      " 32%|███▏      | 6/19 [00:18<00:40,  3.15s/it]\n"
     ]
    },
    {
     "ename": "KeyboardInterrupt",
     "evalue": "",
     "output_type": "error",
     "traceback": [
      "\u001b[0;31m---------------------------------------------------------------------------\u001b[0m",
      "\u001b[0;31mKeyboardInterrupt\u001b[0m                         Traceback (most recent call last)",
      "\u001b[1;32m/mnt/hdd/darshanakg/projects/liloc-demo/global_registration_test.ipynb Cell 9\u001b[0m line \u001b[0;36m1\n\u001b[1;32m     <a href='vscode-notebook-cell:/mnt/hdd/darshanakg/projects/liloc-demo/global_registration_test.ipynb#X20sZmlsZQ%3D%3D?line=13'>14</a>\u001b[0m     end_t \u001b[39m=\u001b[39m time\u001b[39m.\u001b[39mtime()\n\u001b[1;32m     <a href='vscode-notebook-cell:/mnt/hdd/darshanakg/projects/liloc-demo/global_registration_test.ipynb#X20sZmlsZQ%3D%3D?line=15'>16</a>\u001b[0m     times\u001b[39m.\u001b[39mappend(end_t \u001b[39m-\u001b[39m start_t)\n\u001b[0;32m---> <a href='vscode-notebook-cell:/mnt/hdd/darshanakg/projects/liloc-demo/global_registration_test.ipynb#X20sZmlsZQ%3D%3D?line=17'>18</a>\u001b[0m     view(source, target, reg_result\u001b[39m.\u001b[39;49mtransformation)\n\u001b[1;32m     <a href='vscode-notebook-cell:/mnt/hdd/darshanakg/projects/liloc-demo/global_registration_test.ipynb#X20sZmlsZQ%3D%3D?line=19'>20</a>\u001b[0m \u001b[39mprint\u001b[39m(np\u001b[39m.\u001b[39mmean(times))\n",
      "\u001b[1;32m/mnt/hdd/darshanakg/projects/liloc-demo/global_registration_test.ipynb Cell 9\u001b[0m line \u001b[0;36m1\n\u001b[1;32m      <a href='vscode-notebook-cell:/mnt/hdd/darshanakg/projects/liloc-demo/global_registration_test.ipynb#X20sZmlsZQ%3D%3D?line=5'>6</a>\u001b[0m p2\u001b[39m.\u001b[39mpaint_uniform_color([\u001b[39m0\u001b[39m, \u001b[39m0.651\u001b[39m, \u001b[39m0.929\u001b[39m])\n\u001b[1;32m      <a href='vscode-notebook-cell:/mnt/hdd/darshanakg/projects/liloc-demo/global_registration_test.ipynb#X20sZmlsZQ%3D%3D?line=7'>8</a>\u001b[0m p1\u001b[39m.\u001b[39mtransform(T)\n\u001b[0;32m---> <a href='vscode-notebook-cell:/mnt/hdd/darshanakg/projects/liloc-demo/global_registration_test.ipynb#X20sZmlsZQ%3D%3D?line=9'>10</a>\u001b[0m open3d\u001b[39m.\u001b[39;49mvisualization\u001b[39m.\u001b[39;49mdraw_geometries([p1, p2])\n",
      "\u001b[0;31mKeyboardInterrupt\u001b[0m: "
     ]
    }
   ],
   "source": [
    "sequence_dir = \"data/registration_sample/01\"\n",
    "voxel_size = 0.05\n",
    "\n",
    "sequence_ts = fread.get_timstamps(sequence_dir, \".secondary.npz\")\n",
    "\n",
    "times = []\n",
    "\n",
    "for t in tqdm.tqdm(range(0, len(sequence_ts), 20)):\n",
    "    source, source_feat = read_fcgf_file(os.path.join(sequence_dir, f\"{sequence_ts[t]}.secondary.npz\"))\n",
    "    target, target_feat = read_fcgf_file(os.path.join(sequence_dir, f\"{sequence_ts[t]}.global.npz\"))\n",
    "\n",
    "    start_t = time.time()\n",
    "    source, target, reg_result = global_registration(source, source_feat, target, target_feat, cell_size=3, voxel_size=voxel_size, n_random=0.7, refine_enabled=True)\n",
    "    end_t = time.time()\n",
    "\n",
    "    times.append(end_t - start_t)\n",
    "\n",
    "    view(source, target, reg_result.transformation)\n",
    "\n",
    "print(np.mean(times))"
   ]
  },
  {
   "cell_type": "code",
   "execution_count": 55,
   "metadata": {},
   "outputs": [],
   "source": [
    "sequence_dir = \"data/registration_sample/01\"\n",
    "\n",
    "sequence_ts = fread.get_timstamps(sequence_dir, \".secondary.pcd\")\n",
    "\n",
    "voxel_size = 0.025"
   ]
  },
  {
   "cell_type": "code",
   "execution_count": 58,
   "metadata": {},
   "outputs": [],
   "source": [
    "pcd = open3d.io.read_point_cloud(os.path.join(sequence_dir, f\"{sequence_ts[65]}.secondary.pcd\"))\n",
    "pcd = pcd.voxel_down_sample(voxel_size)\n",
    "\n",
    "open3d.visualization.draw_geometries([pcd])\n",
    "\n",
    "pts = np.asarray(pcd.points)\n",
    "\n",
    "np.save(\"data/demo/target.npy\", pts)"
   ]
  },
  {
   "cell_type": "code",
   "execution_count": 54,
   "metadata": {},
   "outputs": [],
   "source": [
    "pcd = open3d.io.read_point_cloud(\"../calibration/env.pcd\")\n",
    "pcd = pcd.voxel_down_sample(voxel_size)\n",
    "\n",
    "open3d.visualization.draw_geometries([pcd])\n",
    "\n",
    "# pts = np.asarray(pcd.points)\n",
    "\n",
    "# np.save(\"../calibration/env.npy\", pts)"
   ]
  },
  {
   "cell_type": "code",
   "execution_count": 23,
   "metadata": {},
   "outputs": [
    {
     "name": "stderr",
     "output_type": "stream",
     "text": [
      "100%|██████████| 369/369 [00:15<00:00, 23.30it/s]\n"
     ]
    }
   ],
   "source": [
    "local_pcds = []\n",
    "local_fpfh = []\n",
    "\n",
    "for t in tqdm.tqdm(sequence_ts):\n",
    "    pcd = open3d.io.read_point_cloud(os.path.join(sequence_dir, f\"{t}.secondary.pcd\"))\n",
    "    pcd = pcd.voxel_down_sample(voxel_size)\n",
    "    pcd, fpfh = compute_fpfh_features(pcd, voxel_size)\n",
    "\n",
    "    local_pcds.append(pcd)\n",
    "    local_fpfh.append(fpfh)\n",
    "\n",
    "# for t in range(1, len(sequence_ts)):\n",
    "#     source = open3d.io.read_point_cloud(os.path.join(sequence_dir, f\"{sequence_ts[t]}.secondary.pcd\"))\n",
    "#     target = open3d.io.read_point_cloud(os.path.join(sequence_dir, f\"{sequence_ts[t - 1]}.secondary.pcd\"))\n",
    "\n",
    "#     source = source.voxel_down_sample(voxel_size)\n",
    "#     target = target.voxel_down_sample(voxel_size)\n",
    "\n",
    "#     source, source_fpfh = compute_fpfh_features(source, voxel_size)\n",
    "#     target, target_fpfh = compute_fpfh_features(target, voxel_size)\n",
    "\n",
    "#     source.paint_uniform_color([1, 0.706, 0])\n",
    "#     target.paint_uniform_color([0, 0.651, 0.929])\n",
    "\n",
    "#     open3d.visualization.draw_geometries([source, target])\n",
    "\n",
    "#     reg_result = execute_ransac(source, target, source_fpfh, target_fpfh, voxel_size)\n",
    "#     reg_result = execute_icp(source, target, reg_result.transformation, voxel_size)\n",
    "\n",
    "#     source.transform(reg_result.transformation)\n",
    "\n",
    "#     open3d.visualization.draw_geometries([source, target])\n",
    "\n",
    "#     break"
   ]
  },
  {
   "cell_type": "code",
   "execution_count": 25,
   "metadata": {},
   "outputs": [
    {
     "name": "stderr",
     "output_type": "stream",
     "text": [
      "100%|██████████| 368/368 [00:56<00:00,  6.54it/s]\n"
     ]
    }
   ],
   "source": [
    "transformations = []\n",
    "\n",
    "for t in tqdm.trange(len(sequence_ts) - 1):\n",
    "    source = copy.deepcopy(local_pcds[t + 1])\n",
    "    target = copy.deepcopy(local_pcds[t])\n",
    "\n",
    "    source_fpfh = local_fpfh[t + 1]\n",
    "    target_fpfh = local_fpfh[t]\n",
    "\n",
    "    reg_result = execute_ransac(source, target, source_fpfh, target_fpfh, voxel_size)\n",
    "    reg_result = execute_icp(source, target, reg_result.transformation, voxel_size)\n",
    "\n",
    "    transformations.append(reg_result.transformation)"
   ]
  },
  {
   "cell_type": "code",
   "execution_count": 27,
   "metadata": {},
   "outputs": [
    {
     "name": "stderr",
     "output_type": "stream",
     "text": [
      "100%|██████████| 368/368 [00:00<00:00, 497423.10it/s]\n"
     ]
    }
   ],
   "source": [
    "local_t = [np.identity(4)]\n",
    "\n",
    "for t in tqdm.trange(len(sequence_ts) - 1):\n",
    "    local_t.append(np.dot(local_t[t], transformations[t]))"
   ]
  },
  {
   "cell_type": "code",
   "execution_count": 31,
   "metadata": {},
   "outputs": [],
   "source": [
    "global_pcd = []\n",
    "\n",
    "for t in range(len(local_t)):\n",
    "    pcd = copy.deepcopy(local_pcds[t])\n",
    "    pcd.transform(local_t[t])\n",
    "\n",
    "    global_pcd.append(pcd)"
   ]
  },
  {
   "cell_type": "code",
   "execution_count": 112,
   "metadata": {},
   "outputs": [],
   "source": [
    "import requests"
   ]
  },
  {
   "cell_type": "code",
   "execution_count": 141,
   "metadata": {},
   "outputs": [],
   "source": [
    "source = open3d.io.read_point_cloud(os.path.join(sequence_dir, f\"{sequence_ts[40]}.secondary.pcd\"))\n",
    "target = open3d.io.read_point_cloud(os.path.join(sequence_dir, f\"{sequence_ts[40]}.global.pcd\"))\n",
    "\n",
    "source_pts = np.asarray(source.points).astype(np.float16).tolist()\n",
    "target_pts = np.asarray(target.points).astype(np.float16).tolist()"
   ]
  },
  {
   "cell_type": "code",
   "execution_count": 142,
   "metadata": {},
   "outputs": [
    {
     "name": "stdout",
     "output_type": "stream",
     "text": [
      "[[0.0029239654541015625, 0.1502685546875, -0.98876953125, 2.0625], [-0.04840087890625, -0.9873046875, -0.1502685546875, 1.5087890625], [-0.9990234375, 0.048309326171875, 0.004390716552734375, 2.03515625], [0.0, 0.0, 0.0, 1.0]]\n"
     ]
    }
   ],
   "source": [
    "# Define new data to create\n",
    "new_data = {\n",
    "    \"source\": source_pts,\n",
    "    \"target\": target_pts\n",
    "}\n",
    "\n",
    "# The API endpoint to communicate with\n",
    "url_post = \"http://127.0.0.1:5557/register\"\n",
    "\n",
    "# A POST request to tthe API\n",
    "response = requests.get(url_post, json=new_data)\n",
    "\n",
    "# Print the response\n",
    "post_response_json = response.json()\n",
    "print(post_response_json)"
   ]
  },
  {
   "cell_type": "code",
   "execution_count": 143,
   "metadata": {},
   "outputs": [],
   "source": [
    "view(source, target, post_response_json)"
   ]
  }
 ],
 "metadata": {
  "kernelspec": {
   "display_name": "open3d",
   "language": "python",
   "name": "python3"
  },
  "language_info": {
   "codemirror_mode": {
    "name": "ipython",
    "version": 3
   },
   "file_extension": ".py",
   "mimetype": "text/x-python",
   "name": "python",
   "nbconvert_exporter": "python",
   "pygments_lexer": "ipython3",
   "version": "3.10.13"
  }
 },
 "nbformat": 4,
 "nbformat_minor": 2
}
