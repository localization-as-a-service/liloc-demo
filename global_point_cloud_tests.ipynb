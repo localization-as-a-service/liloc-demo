{
 "cells": [
  {
   "cell_type": "code",
   "execution_count": 1,
   "metadata": {},
   "outputs": [],
   "source": [
    "import open3d\n",
    "import numpy as np\n",
    "import pandas as pd\n",
    "import os\n",
    "import glob\n",
    "import tqdm\n",
    "import copy\n",
    "\n",
    "import matplotlib.pyplot as plt\n",
    "import utils.registration as registration\n",
    "import utils.functions as functions\n",
    "import utils.transform as transform\n",
    "import utils.pointcloud as pointcloud\n",
    "import utils.fread as fread\n",
    "import utils.FCGF as FCGF\n",
    "\n",
    "from utils.config import Config\n",
    "from utils.depth_camera import DepthCamera, DepthCameraParams\n",
    "from scipy.ndimage import gaussian_filter1d\n",
    "from PIL import Image"
   ]
  },
  {
   "cell_type": "code",
   "execution_count": 22,
   "metadata": {},
   "outputs": [],
   "source": [
    "def voxel_downsample(point_cloud, voxel_size):\n",
    "    # Determine the minimum and maximum coordinates of the point cloud\n",
    "    min_coord = np.min(point_cloud, axis=0)\n",
    "    max_coord = np.max(point_cloud, axis=0)\n",
    "    \n",
    "    # Calculate the dimensions of the voxel grid\n",
    "    grid_dims = np.ceil((max_coord - min_coord) / voxel_size).astype(int)\n",
    "    \n",
    "    # Create an empty voxel grid\n",
    "    voxel_grid = [[] for _ in range(np.prod(grid_dims))]\n",
    "    \n",
    "    # Compute the voxel indices for each point in the point cloud\n",
    "    voxel_indices = np.floor((point_cloud - min_coord) / voxel_size).astype(int)\n",
    "    \n",
    "    # Assign points to corresponding voxels\n",
    "    for i, voxel_index in enumerate(voxel_indices):\n",
    "        voxel_grid[np.ravel_multi_index(voxel_index, grid_dims)].append(point_cloud[i])\n",
    "    \n",
    "    # Select representative points from each voxel\n",
    "    downsampled_points = []\n",
    "    for voxel_points in voxel_grid:\n",
    "        if voxel_points:\n",
    "            representative_point = np.mean(voxel_points, axis=0)\n",
    "            downsampled_points.append(representative_point)\n",
    "    \n",
    "    return np.array(downsampled_points)"
   ]
  },
  {
   "cell_type": "code",
   "execution_count": 50,
   "metadata": {},
   "outputs": [],
   "source": [
    "vertices = np.loadtxt(\"temp/global.txt\")\n",
    "\n",
    "pcd = open3d.geometry.PointCloud()\n",
    "pcd.points = open3d.utility.Vector3dVector(vertices)\n",
    "\n",
    "# pcd = open3d.geometry.voxel_down_sample(pcd, voxel_size=0.1)"
   ]
  },
  {
   "cell_type": "code",
   "execution_count": 42,
   "metadata": {},
   "outputs": [
    {
     "name": "stdout",
     "output_type": "stream",
     "text": [
      "6.56 ms ± 150 µs per loop (mean ± std. dev. of 7 runs, 100 loops each)\n"
     ]
    }
   ],
   "source": [
    "%timeit open3d.geometry.voxel_down_sample(pcd, voxel_size=0.1)"
   ]
  },
  {
   "cell_type": "code",
   "execution_count": 51,
   "metadata": {},
   "outputs": [],
   "source": [
    "open3d.visualization.draw_geometries([pcd])"
   ]
  },
  {
   "cell_type": "code",
   "execution_count": 23,
   "metadata": {},
   "outputs": [],
   "source": [
    "vertices_downsampled = voxel_downsample(vertices, voxel_size=0.1)\n",
    "\n",
    "pcd_downsampled = open3d.geometry.PointCloud()\n",
    "pcd_downsampled.points = open3d.utility.Vector3dVector(vertices_downsampled)"
   ]
  },
  {
   "cell_type": "code",
   "execution_count": 12,
   "metadata": {},
   "outputs": [],
   "source": [
    "open3d.visualization.draw_geometries([pcd_downsampled])"
   ]
  },
  {
   "cell_type": "code",
   "execution_count": 24,
   "metadata": {},
   "outputs": [
    {
     "name": "stdout",
     "output_type": "stream",
     "text": [
      "755 ms ± 8.72 ms per loop (mean ± std. dev. of 7 runs, 1 loop each)\n"
     ]
    }
   ],
   "source": [
    "%timeit voxel_downsample(vertices, voxel_size=0.1)"
   ]
  },
  {
   "cell_type": "code",
   "execution_count": 26,
   "metadata": {},
   "outputs": [],
   "source": [
    "global_pcds = [np.zeros((1, 3)) for _ in range(3)]"
   ]
  },
  {
   "cell_type": "code",
   "execution_count": 47,
   "metadata": {},
   "outputs": [],
   "source": [
    "for i in range(3):\n",
    "    vertices = np.loadtxt(f\"temp/dev_{i}.txt\")\n",
    "    # vertices = np.concatenate((vertices, np.ones((vertices.shape[0], 1))), axis=1)\n",
    "    # transformation = np.loadtxt(f\"metadata/device-{i}.txt\")\n",
    "    # vertices = np.dot(transformation, vertices.T).T\n",
    "    global_pcds[i] = vertices"
   ]
  },
  {
   "cell_type": "code",
   "execution_count": 48,
   "metadata": {},
   "outputs": [],
   "source": [
    "global_pcd = open3d.geometry.PointCloud()\n",
    "global_pcd.points = open3d.utility.Vector3dVector(np.vstack(global_pcds))"
   ]
  },
  {
   "cell_type": "code",
   "execution_count": 49,
   "metadata": {},
   "outputs": [],
   "source": [
    "open3d.visualization.draw_geometries([global_pcd])"
   ]
  },
  {
   "cell_type": "code",
   "execution_count": 15,
   "metadata": {},
   "outputs": [],
   "source": [
    "vertices = np.loadtxt(\"temp/global.txt\")\n",
    "\n",
    "pcd = open3d.geometry.PointCloud()\n",
    "pcd.points = open3d.utility.Vector3dVector(vertices[:, :3])\n",
    "\n",
    "open3d.visualization.draw_geometries([pcd])\n",
    "\n",
    "# open3d.io.write_point_cloud(\"temp/larc_kitche_v6_pcd.pcd\", pcd)"
   ]
  },
  {
   "cell_type": "code",
   "execution_count": 14,
   "metadata": {},
   "outputs": [],
   "source": [
    "for device in range(3):\n",
    "    matrix_1 = np.loadtxt(f\"temp/global_pcd/device-{device}-base.txt\")\n",
    "    matrix_2 = np.loadtxt(f\"temp/global_pcd/device-{device}-aligned.txt\")\n",
    "\n",
    "    matrix = np.dot(matrix_2, matrix_1)\n",
    "\n",
    "    np.savetxt(f\"temp/global_pcd/device-{device}.txt\", matrix, fmt=\"%.12f\")"
   ]
  }
 ],
 "metadata": {
  "kernelspec": {
   "display_name": "Python 3",
   "language": "python",
   "name": "python3"
  },
  "language_info": {
   "codemirror_mode": {
    "name": "ipython",
    "version": 3
   },
   "file_extension": ".py",
   "mimetype": "text/x-python",
   "name": "python",
   "nbconvert_exporter": "python",
   "pygments_lexer": "ipython3",
   "version": "3.7.9"
  },
  "orig_nbformat": 4
 },
 "nbformat": 4,
 "nbformat_minor": 2
}
